{
 "cells": [
  {
   "cell_type": "code",
   "execution_count": 28,
   "metadata": {},
   "outputs": [
    {
     "name": "stderr",
     "output_type": "stream",
     "text": [
      "Exception in thread Thread-27 (_readerthread):\n",
      "Traceback (most recent call last):\n",
      "  File \"C:\\Program Files\\WindowsApps\\PythonSoftwareFoundation.Python.3.11_3.11.2544.0_x64__qbz5n2kfra8p0\\Lib\\threading.py\", line 1045, in _bootstrap_inner\n",
      "    self.run()\n",
      "  File \"C:\\Users\\SOPHY\\AppData\\Local\\Packages\\PythonSoftwareFoundation.Python.3.11_qbz5n2kfra8p0\\LocalCache\\local-packages\\Python311\\site-packages\\ipykernel\\ipkernel.py\", line 761, in run_closure\n",
      "    _threading_Thread_run(self)\n",
      "  File \"C:\\Program Files\\WindowsApps\\PythonSoftwareFoundation.Python.3.11_3.11.2544.0_x64__qbz5n2kfra8p0\\Lib\\threading.py\", line 982, in run\n",
      "    self._target(*self._args, **self._kwargs)\n",
      "  File \"C:\\Program Files\\WindowsApps\\PythonSoftwareFoundation.Python.3.11_3.11.2544.0_x64__qbz5n2kfra8p0\\Lib\\subprocess.py\", line 1599, in _readerthread\n",
      "    buffer.append(fh.read())\n",
      "                  ^^^^^^^^^\n",
      "MemoryError\n"
     ]
    }
   ],
   "source": [
    "# Set the Tesseract executable path\n",
    "pytesseract.pytesseract.tesseract_cmd = r'C:\\Program Files\\Tesseract-OCR\\tesseract.exe'  # Update this path if necessary\n",
    "\n",
    "import cv2 \n",
    "import pytesseract\n",
    "from pdf2image import convert_from_path\n",
    "\n",
    "pdf_path = 'geographical.pdf'\n",
    "\n",
    "# Convert PDF to images with the specified Poppler path\n",
    "images = convert_from_path(pdf_path, poppler_path=r\"D:\\Ministry of Rural Development Intern\\package\\poppler-24.07.0\\Library\\bin\")\n",
    "\n",
    "# Save the first page as an image\n",
    "images[0].save('output.jpg', 'JPEG')\n",
    "image_path = 'output.jpg'\n",
    "\n",
    "# Adding custom options for Tesseract\n",
    "custom_config = r'-l khm+eng --oem 3 --psm 6'\n",
    "\n",
    "# Load the image using OpenCV\n",
    "image = cv2.imread(image_path)\n",
    "\n",
    "if image is not None:\n",
    "    # Perform OCR with Tesseract\n",
    "    text = pytesseract.image_to_string(image, config=custom_config)\n",
    "\n",
    "    # Split the result by newline character\n",
    "    text_lines = text.split(\"\\n\")\n",
    "\n",
    "    # Display the OCR results\n",
    "    for line in text_lines:\n",
    "        print(line)\n",
    "else:\n",
    "    print('Error: Unable to load the image.')"
   ]
  }
 ],
 "metadata": {
  "kernelspec": {
   "display_name": "Python 3",
   "language": "python",
   "name": "python3"
  },
  "language_info": {
   "codemirror_mode": {
    "name": "ipython",
    "version": 3
   },
   "file_extension": ".py",
   "mimetype": "text/x-python",
   "name": "python",
   "nbconvert_exporter": "python",
   "pygments_lexer": "ipython3",
   "version": "3.11.9"
  }
 },
 "nbformat": 4,
 "nbformat_minor": 2
}
